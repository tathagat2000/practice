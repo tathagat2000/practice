{
  "nbformat": 4,
  "nbformat_minor": 0,
  "metadata": {
    "colab": {
      "name": "ASHRAE.ipynb",
      "provenance": [],
      "collapsed_sections": [],
      "machine_shape": "hm",
      "include_colab_link": true
    },
    "kernelspec": {
      "name": "python3",
      "display_name": "Python 3"
    },
    "accelerator": "GPU"
  },
  "cells": [
    {
      "cell_type": "markdown",
      "metadata": {
        "id": "view-in-github",
        "colab_type": "text"
      },
      "source": [
        "<a href=\"https://colab.research.google.com/github/tathagat2000/practice/blob/master/ASHRAE.ipynb\" target=\"_parent\"><img src=\"https://colab.research.google.com/assets/colab-badge.svg\" alt=\"Open In Colab\"/></a>"
      ]
    },
    {
      "cell_type": "code",
      "metadata": {
        "id": "FYgY9ac4zF_w",
        "colab_type": "code",
        "outputId": "0907913c-72f0-43b8-d26e-5be55223a3d7",
        "colab": {
          "base_uri": "https://localhost:8080/",
          "height": 81
        }
      },
      "source": [
        "import tensorflow as tf \n",
        "tf.test.gpu_device_name() "
      ],
      "execution_count": 0,
      "outputs": [
        {
          "output_type": "display_data",
          "data": {
            "text/html": [
              "<p style=\"color: red;\">\n",
              "The default version of TensorFlow in Colab will soon switch to TensorFlow 2.x.<br>\n",
              "We recommend you <a href=\"https://www.tensorflow.org/guide/migrate\" target=\"_blank\">upgrade</a> now \n",
              "or ensure your notebook will continue to use TensorFlow 1.x via the <code>%tensorflow_version 1.x</code> magic:\n",
              "<a href=\"https://colab.research.google.com/notebooks/tensorflow_version.ipynb\" target=\"_blank\">more info</a>.</p>\n"
            ],
            "text/plain": [
              "<IPython.core.display.HTML object>"
            ]
          },
          "metadata": {
            "tags": []
          }
        },
        {
          "output_type": "execute_result",
          "data": {
            "text/plain": [
              "'/device:GPU:0'"
            ]
          },
          "metadata": {
            "tags": []
          },
          "execution_count": 2
        }
      ]
    },
    {
      "cell_type": "code",
      "metadata": {
        "id": "_vF1YgLzzupT",
        "colab_type": "code",
        "outputId": "ac41c2b0-5eb5-4388-8b60-90919b46bf8f",
        "colab": {
          "base_uri": "https://localhost:8080/",
          "height": 81
        }
      },
      "source": [
        "import pandas as pd\n",
        "import matplotlib.pyplot as plt\n",
        "import glob\n",
        "import cv2\n",
        "import tensorflow as tf\n",
        "import numpy as np\n",
        "from matplotlib import pyplot as PLT\n",
        "from matplotlib import image as mpimg\n",
        "import scipy\n",
        "from scipy import misc\n",
        "import imageio\n",
        "import os\n",
        "import keras\n",
        "from keras.utils import to_categorical\n",
        "from sklearn.utils import shuffle\n",
        "from sklearn.model_selection import train_test_split"
      ],
      "execution_count": 0,
      "outputs": [
        {
          "output_type": "display_data",
          "data": {
            "text/html": [
              "<p style=\"color: red;\">\n",
              "The default version of TensorFlow in Colab will soon switch to TensorFlow 2.x.<br>\n",
              "We recommend you <a href=\"https://www.tensorflow.org/guide/migrate\" target=\"_blank\">upgrade</a> now \n",
              "or ensure your notebook will continue to use TensorFlow 1.x via the <code>%tensorflow_version 1.x</code> magic:\n",
              "<a href=\"https://colab.research.google.com/notebooks/tensorflow_version.ipynb\" target=\"_blank\">more info</a>.</p>\n"
            ],
            "text/plain": [
              "<IPython.core.display.HTML object>"
            ]
          },
          "metadata": {
            "tags": []
          }
        },
        {
          "output_type": "stream",
          "text": [
            "Using TensorFlow backend.\n"
          ],
          "name": "stderr"
        }
      ]
    },
    {
      "cell_type": "code",
      "metadata": {
        "id": "hf3zinl6z1Xn",
        "colab_type": "code",
        "outputId": "71faebea-6c8d-4f0c-a886-8b7d671c2874",
        "colab": {
          "base_uri": "https://localhost:8080/",
          "height": 125
        }
      },
      "source": [
        "from google.colab import drive \n",
        "drive.mount('/mntDrive') "
      ],
      "execution_count": 0,
      "outputs": [
        {
          "output_type": "stream",
          "text": [
            "Go to this URL in a browser: https://accounts.google.com/o/oauth2/auth?client_id=947318989803-6bn6qk8qdgf4n4g3pfee6491hc0brc4i.apps.googleusercontent.com&redirect_uri=urn%3Aietf%3Awg%3Aoauth%3A2.0%3Aoob&scope=email%20https%3A%2F%2Fwww.googleapis.com%2Fauth%2Fdocs.test%20https%3A%2F%2Fwww.googleapis.com%2Fauth%2Fdrive%20https%3A%2F%2Fwww.googleapis.com%2Fauth%2Fdrive.photos.readonly%20https%3A%2F%2Fwww.googleapis.com%2Fauth%2Fpeopleapi.readonly&response_type=code\n",
            "\n",
            "Enter your authorization code:\n",
            "··········\n",
            "Mounted at /mntDrive\n"
          ],
          "name": "stdout"
        }
      ]
    },
    {
      "cell_type": "code",
      "metadata": {
        "id": "yJfxFkFq05Ol",
        "colab_type": "code",
        "colab": {}
      },
      "source": [
        "path = \"/mntDrive/My Drive/Kaggle_Ashrae_Data/building_metadata.csv\"\n",
        "test=pd.read_csv(\"/mntDrive/My Drive/Kaggle_Ashrae_Data/test.csv\")\n",
        "#train=pd.read_csv(\"/mntDrive/My Drive/Kaggle_Ashrae_Data/train.csv\")\n",
        "building=pd.read_csv(\"/mntDrive/My Drive/Kaggle_Ashrae_Data/building_metadata.csv\")\n",
        "weather_test=pd.read_csv(\"/mntDrive/My Drive/Kaggle_Ashrae_Data/weather_test.csv\")\n",
        "#weather_train=pd.read_csv(\"/mntDrive/My Drive/Kaggle_Ashrae_Data/weather_train.csv\")\n",
        "\n"
      ],
      "execution_count": 0,
      "outputs": []
    },
    {
      "cell_type": "code",
      "metadata": {
        "id": "cMFrBG0BDFBz",
        "colab_type": "code",
        "colab": {}
      },
      "source": [
        "weather_train=pd.read_csv(\"/mntDrive/My Drive/Kaggle_Ashrae_Data/weather_train.csv\")"
      ],
      "execution_count": 0,
      "outputs": []
    },
    {
      "cell_type": "code",
      "metadata": {
        "id": "S8S2ByPc0bcJ",
        "colab_type": "code",
        "outputId": "bbdf0b03-59b8-4f08-8dcb-d2f1f8789958",
        "colab": {
          "base_uri": "https://localhost:8080/",
          "height": 402
        }
      },
      "source": [
        "\n",
        "weather_test.fillna(0)\n",
        "building.fillna(0)"
      ],
      "execution_count": 0,
      "outputs": [
        {
          "output_type": "execute_result",
          "data": {
            "text/html": [
              "<div>\n",
              "<style scoped>\n",
              "    .dataframe tbody tr th:only-of-type {\n",
              "        vertical-align: middle;\n",
              "    }\n",
              "\n",
              "    .dataframe tbody tr th {\n",
              "        vertical-align: top;\n",
              "    }\n",
              "\n",
              "    .dataframe thead th {\n",
              "        text-align: right;\n",
              "    }\n",
              "</style>\n",
              "<table border=\"1\" class=\"dataframe\">\n",
              "  <thead>\n",
              "    <tr style=\"text-align: right;\">\n",
              "      <th></th>\n",
              "      <th>site_id</th>\n",
              "      <th>building_id</th>\n",
              "      <th>primary_use</th>\n",
              "      <th>square_feet</th>\n",
              "      <th>year_built</th>\n",
              "      <th>floor_count</th>\n",
              "    </tr>\n",
              "  </thead>\n",
              "  <tbody>\n",
              "    <tr>\n",
              "      <th>0</th>\n",
              "      <td>0</td>\n",
              "      <td>0</td>\n",
              "      <td>Education</td>\n",
              "      <td>7432</td>\n",
              "      <td>2008.0</td>\n",
              "      <td>0.0</td>\n",
              "    </tr>\n",
              "    <tr>\n",
              "      <th>1</th>\n",
              "      <td>0</td>\n",
              "      <td>1</td>\n",
              "      <td>Education</td>\n",
              "      <td>2720</td>\n",
              "      <td>2004.0</td>\n",
              "      <td>0.0</td>\n",
              "    </tr>\n",
              "    <tr>\n",
              "      <th>2</th>\n",
              "      <td>0</td>\n",
              "      <td>2</td>\n",
              "      <td>Education</td>\n",
              "      <td>5376</td>\n",
              "      <td>1991.0</td>\n",
              "      <td>0.0</td>\n",
              "    </tr>\n",
              "    <tr>\n",
              "      <th>3</th>\n",
              "      <td>0</td>\n",
              "      <td>3</td>\n",
              "      <td>Education</td>\n",
              "      <td>23685</td>\n",
              "      <td>2002.0</td>\n",
              "      <td>0.0</td>\n",
              "    </tr>\n",
              "    <tr>\n",
              "      <th>4</th>\n",
              "      <td>0</td>\n",
              "      <td>4</td>\n",
              "      <td>Education</td>\n",
              "      <td>116607</td>\n",
              "      <td>1975.0</td>\n",
              "      <td>0.0</td>\n",
              "    </tr>\n",
              "    <tr>\n",
              "      <th>...</th>\n",
              "      <td>...</td>\n",
              "      <td>...</td>\n",
              "      <td>...</td>\n",
              "      <td>...</td>\n",
              "      <td>...</td>\n",
              "      <td>...</td>\n",
              "    </tr>\n",
              "    <tr>\n",
              "      <th>1444</th>\n",
              "      <td>15</td>\n",
              "      <td>1444</td>\n",
              "      <td>Entertainment/public assembly</td>\n",
              "      <td>19619</td>\n",
              "      <td>1914.0</td>\n",
              "      <td>0.0</td>\n",
              "    </tr>\n",
              "    <tr>\n",
              "      <th>1445</th>\n",
              "      <td>15</td>\n",
              "      <td>1445</td>\n",
              "      <td>Education</td>\n",
              "      <td>4298</td>\n",
              "      <td>0.0</td>\n",
              "      <td>0.0</td>\n",
              "    </tr>\n",
              "    <tr>\n",
              "      <th>1446</th>\n",
              "      <td>15</td>\n",
              "      <td>1446</td>\n",
              "      <td>Entertainment/public assembly</td>\n",
              "      <td>11265</td>\n",
              "      <td>1997.0</td>\n",
              "      <td>0.0</td>\n",
              "    </tr>\n",
              "    <tr>\n",
              "      <th>1447</th>\n",
              "      <td>15</td>\n",
              "      <td>1447</td>\n",
              "      <td>Lodging/residential</td>\n",
              "      <td>29775</td>\n",
              "      <td>2001.0</td>\n",
              "      <td>0.0</td>\n",
              "    </tr>\n",
              "    <tr>\n",
              "      <th>1448</th>\n",
              "      <td>15</td>\n",
              "      <td>1448</td>\n",
              "      <td>Office</td>\n",
              "      <td>92271</td>\n",
              "      <td>2001.0</td>\n",
              "      <td>0.0</td>\n",
              "    </tr>\n",
              "  </tbody>\n",
              "</table>\n",
              "<p>1449 rows × 6 columns</p>\n",
              "</div>"
            ],
            "text/plain": [
              "      site_id  building_id  ... year_built  floor_count\n",
              "0           0            0  ...     2008.0          0.0\n",
              "1           0            1  ...     2004.0          0.0\n",
              "2           0            2  ...     1991.0          0.0\n",
              "3           0            3  ...     2002.0          0.0\n",
              "4           0            4  ...     1975.0          0.0\n",
              "...       ...          ...  ...        ...          ...\n",
              "1444       15         1444  ...     1914.0          0.0\n",
              "1445       15         1445  ...        0.0          0.0\n",
              "1446       15         1446  ...     1997.0          0.0\n",
              "1447       15         1447  ...     2001.0          0.0\n",
              "1448       15         1448  ...     2001.0          0.0\n",
              "\n",
              "[1449 rows x 6 columns]"
            ]
          },
          "metadata": {
            "tags": []
          },
          "execution_count": 4
        }
      ]
    },
    {
      "cell_type": "code",
      "metadata": {
        "id": "YcfhkjkCUGBP",
        "colab_type": "code",
        "colab": {}
      },
      "source": [
        "def reduce_mem_usage(df):\n",
        "    start_mem_usg = df.memory_usage().sum() / 1024**2 \n",
        "    print(\"Memory usage of properties dataframe is :\",start_mem_usg,\" MB\")\n",
        "    NAlist = [] # Keeps track of columns that have missing values filled in. \n",
        "    for col in df.columns:\n",
        "        if df[col].dtype != object:  # Exclude strings            \n",
        "            # Print current column type\n",
        "            print(\"******************************\")\n",
        "            print(\"Column: \",col)\n",
        "            print(\"dtype before: \",df[col].dtype)            \n",
        "            # make variables for Int, max and min\n",
        "            IsInt = False\n",
        "            mx = df[col].max()\n",
        "            mn = df[col].min()\n",
        "            print(\"min for this col: \",mn)\n",
        "            print(\"max for this col: \",mx)\n",
        "            # Integer does not support NA, therefore, NA needs to be filled\n",
        "            if not np.isfinite(df[col]).all(): \n",
        "                NAlist.append(col)\n",
        "                df[col].fillna(mn-1,inplace=True)  \n",
        "                   \n",
        "            # test if column can be converted to an integer\n",
        "            asint = df[col].fillna(0).astype(np.int64)\n",
        "            result = (df[col] - asint)\n",
        "            result = result.sum()\n",
        "            if result > -0.01 and result < 0.01:\n",
        "                IsInt = True            \n",
        "            # Make Integer/unsigned Integer datatypes\n",
        "            if IsInt:\n",
        "                if mn >= 0:\n",
        "                    if mx < 255:\n",
        "                        df[col] = df[col].astype(np.uint8)\n",
        "                    elif mx < 65535:\n",
        "                        df[col] = df[col].astype(np.uint16)\n",
        "                    elif mx < 4294967295:\n",
        "                        df[col] = df[col].astype(np.uint32)\n",
        "                    else:\n",
        "                        df[col] = df[col].astype(np.uint64)\n",
        "                else:\n",
        "                    if mn > np.iinfo(np.int8).min and mx < np.iinfo(np.int8).max:\n",
        "                        df[col] = df[col].astype(np.int8)\n",
        "                    elif mn > np.iinfo(np.int16).min and mx < np.iinfo(np.int16).max:\n",
        "                        df[col] = df[col].astype(np.int16)\n",
        "                    elif mn > np.iinfo(np.int32).min and mx < np.iinfo(np.int32).max:\n",
        "                        df[col] = df[col].astype(np.int32)\n",
        "                    elif mn > np.iinfo(np.int64).min and mx < np.iinfo(np.int64).max:\n",
        "                        df[col] = df[col].astype(np.int64)    \n",
        "            # Make float datatypes 32 bit\n",
        "            else:\n",
        "                df[col] = df[col].astype(np.float32)\n",
        "            \n",
        "            # Print new column type\n",
        "            print(\"dtype after: \",df[col].dtype)\n",
        "            print(\"******************************\")\n",
        "    # Print final result\n",
        "    print(\"___MEMORY USAGE AFTER COMPLETION:___\")\n",
        "    mem_usg = df.memory_usage().sum() / 1024**2 \n",
        "    print(\"Memory usage is: \",mem_usg,\" MB\")\n",
        "    print(\"This is \",100*mem_usg/start_mem_usg,\"% of the initial size\")\n",
        "    return df, NAlist"
      ],
      "execution_count": 0,
      "outputs": []
    },
    {
      "cell_type": "code",
      "metadata": {
        "id": "JAjZdvfqUULA",
        "colab_type": "code",
        "outputId": "221afec9-ac09-4983-c4f2-c8769d86440f",
        "colab": {
          "base_uri": "https://localhost:8080/",
          "height": 1000
        }
      },
      "source": [
        "test , NAlist = reduce_mem_usage(test)\n",
        "weather_test , NAlist = reduce_mem_usage(weather_test)\n",
        "building , NAlist = reduce_mem_usage(building)\n",
        "\n",
        "\n"
      ],
      "execution_count": 0,
      "outputs": [
        {
          "output_type": "stream",
          "text": [
            "Memory usage of properties dataframe is : 1272.5098876953125  MB\n",
            "******************************\n",
            "Column:  row_id\n",
            "dtype before:  int64\n",
            "min for this col:  0\n",
            "max for this col:  41697599\n",
            "dtype after:  uint32\n",
            "******************************\n",
            "******************************\n",
            "Column:  building_id\n",
            "dtype before:  int64\n",
            "min for this col:  0\n",
            "max for this col:  1448\n",
            "dtype after:  uint16\n",
            "******************************\n",
            "******************************\n",
            "Column:  meter\n",
            "dtype before:  int64\n",
            "min for this col:  0\n",
            "max for this col:  3\n",
            "dtype after:  uint8\n",
            "******************************\n",
            "___MEMORY USAGE AFTER COMPLETION:___\n",
            "Memory usage is:  596.4890747070312  MB\n",
            "This is  46.87500509621608 % of the initial size\n",
            "Memory usage of properties dataframe is : 19.036888122558594  MB\n",
            "******************************\n",
            "Column:  site_id\n",
            "dtype before:  int64\n",
            "min for this col:  0\n",
            "max for this col:  15\n",
            "dtype after:  uint8\n",
            "******************************\n",
            "******************************\n",
            "Column:  air_temperature\n",
            "dtype before:  float64\n",
            "min for this col:  -28.1\n",
            "max for this col:  48.3\n",
            "dtype after:  float32\n",
            "******************************\n",
            "******************************\n",
            "Column:  cloud_coverage\n",
            "dtype before:  float64\n",
            "min for this col:  0.0\n",
            "max for this col:  9.0\n",
            "dtype after:  uint8\n",
            "******************************\n",
            "******************************\n",
            "Column:  dew_temperature\n",
            "dtype before:  float64\n",
            "min for this col:  -31.6\n",
            "max for this col:  26.7\n",
            "dtype after:  float32\n",
            "******************************\n",
            "******************************\n",
            "Column:  precip_depth_1_hr\n",
            "dtype before:  float64\n",
            "min for this col:  -1.0\n",
            "max for this col:  597.0\n",
            "dtype after:  int16\n",
            "******************************\n",
            "******************************\n",
            "Column:  sea_level_pressure\n",
            "dtype before:  float64\n",
            "min for this col:  972.0\n",
            "max for this col:  1050.1\n",
            "dtype after:  float32\n",
            "******************************\n",
            "******************************\n",
            "Column:  wind_direction\n",
            "dtype before:  float64\n",
            "min for this col:  0.0\n",
            "max for this col:  360.0\n",
            "dtype after:  uint16\n",
            "******************************\n",
            "******************************\n",
            "Column:  wind_speed\n",
            "dtype before:  float64\n",
            "min for this col:  0.0\n",
            "max for this col:  24.2\n",
            "dtype after:  float32\n",
            "******************************\n",
            "___MEMORY USAGE AFTER COMPLETION:___\n",
            "Memory usage is:  7.932107925415039  MB\n",
            "This is  41.66704071772918 % of the initial size\n",
            "Memory usage of properties dataframe is : 0.0664520263671875  MB\n",
            "******************************\n",
            "Column:  site_id\n",
            "dtype before:  int64\n",
            "min for this col:  0\n",
            "max for this col:  15\n",
            "dtype after:  uint8\n",
            "******************************\n",
            "******************************\n",
            "Column:  building_id\n",
            "dtype before:  int64\n",
            "min for this col:  0\n",
            "max for this col:  1448\n",
            "dtype after:  uint16\n",
            "******************************\n",
            "******************************\n",
            "Column:  square_feet\n",
            "dtype before:  int64\n",
            "min for this col:  283\n",
            "max for this col:  875000\n",
            "dtype after:  uint32\n",
            "******************************\n",
            "******************************\n",
            "Column:  year_built\n",
            "dtype before:  float64\n",
            "min for this col:  1900.0\n",
            "max for this col:  2017.0\n",
            "dtype after:  uint16\n",
            "******************************\n",
            "******************************\n",
            "Column:  floor_count\n",
            "dtype before:  float64\n",
            "min for this col:  1.0\n",
            "max for this col:  26.0\n",
            "dtype after:  uint8\n",
            "******************************\n",
            "___MEMORY USAGE AFTER COMPLETION:___\n",
            "Memory usage is:  0.024995803833007812  MB\n",
            "This is  37.614810562571755 % of the initial size\n"
          ],
          "name": "stdout"
        }
      ]
    },
    {
      "cell_type": "code",
      "metadata": {
        "id": "mZmmUZmBvrOC",
        "colab_type": "code",
        "outputId": "488e5a34-9ffb-49e5-e039-4f09cd39a628",
        "colab": {
          "base_uri": "https://localhost:8080/",
          "height": 402
        }
      },
      "source": [
        "test"
      ],
      "execution_count": 0,
      "outputs": [
        {
          "output_type": "execute_result",
          "data": {
            "text/html": [
              "<div>\n",
              "<style scoped>\n",
              "    .dataframe tbody tr th:only-of-type {\n",
              "        vertical-align: middle;\n",
              "    }\n",
              "\n",
              "    .dataframe tbody tr th {\n",
              "        vertical-align: top;\n",
              "    }\n",
              "\n",
              "    .dataframe thead th {\n",
              "        text-align: right;\n",
              "    }\n",
              "</style>\n",
              "<table border=\"1\" class=\"dataframe\">\n",
              "  <thead>\n",
              "    <tr style=\"text-align: right;\">\n",
              "      <th></th>\n",
              "      <th>row_id</th>\n",
              "      <th>building_id</th>\n",
              "      <th>meter</th>\n",
              "      <th>timestamp</th>\n",
              "    </tr>\n",
              "  </thead>\n",
              "  <tbody>\n",
              "    <tr>\n",
              "      <th>0</th>\n",
              "      <td>0</td>\n",
              "      <td>0</td>\n",
              "      <td>0</td>\n",
              "      <td>2017-01-01 00:00:00</td>\n",
              "    </tr>\n",
              "    <tr>\n",
              "      <th>1</th>\n",
              "      <td>1</td>\n",
              "      <td>1</td>\n",
              "      <td>0</td>\n",
              "      <td>2017-01-01 00:00:00</td>\n",
              "    </tr>\n",
              "    <tr>\n",
              "      <th>2</th>\n",
              "      <td>2</td>\n",
              "      <td>2</td>\n",
              "      <td>0</td>\n",
              "      <td>2017-01-01 00:00:00</td>\n",
              "    </tr>\n",
              "    <tr>\n",
              "      <th>3</th>\n",
              "      <td>3</td>\n",
              "      <td>3</td>\n",
              "      <td>0</td>\n",
              "      <td>2017-01-01 00:00:00</td>\n",
              "    </tr>\n",
              "    <tr>\n",
              "      <th>4</th>\n",
              "      <td>4</td>\n",
              "      <td>4</td>\n",
              "      <td>0</td>\n",
              "      <td>2017-01-01 00:00:00</td>\n",
              "    </tr>\n",
              "    <tr>\n",
              "      <th>...</th>\n",
              "      <td>...</td>\n",
              "      <td>...</td>\n",
              "      <td>...</td>\n",
              "      <td>...</td>\n",
              "    </tr>\n",
              "    <tr>\n",
              "      <th>41697595</th>\n",
              "      <td>41697595</td>\n",
              "      <td>1444</td>\n",
              "      <td>0</td>\n",
              "      <td>2018-05-09 07:00:00</td>\n",
              "    </tr>\n",
              "    <tr>\n",
              "      <th>41697596</th>\n",
              "      <td>41697596</td>\n",
              "      <td>1445</td>\n",
              "      <td>0</td>\n",
              "      <td>2018-05-09 07:00:00</td>\n",
              "    </tr>\n",
              "    <tr>\n",
              "      <th>41697597</th>\n",
              "      <td>41697597</td>\n",
              "      <td>1446</td>\n",
              "      <td>0</td>\n",
              "      <td>2018-05-09 07:00:00</td>\n",
              "    </tr>\n",
              "    <tr>\n",
              "      <th>41697598</th>\n",
              "      <td>41697598</td>\n",
              "      <td>1447</td>\n",
              "      <td>0</td>\n",
              "      <td>2018-05-09 07:00:00</td>\n",
              "    </tr>\n",
              "    <tr>\n",
              "      <th>41697599</th>\n",
              "      <td>41697599</td>\n",
              "      <td>1448</td>\n",
              "      <td>0</td>\n",
              "      <td>2018-05-09 07:00:00</td>\n",
              "    </tr>\n",
              "  </tbody>\n",
              "</table>\n",
              "<p>41697600 rows × 4 columns</p>\n",
              "</div>"
            ],
            "text/plain": [
              "            row_id  building_id  meter            timestamp\n",
              "0                0            0      0  2017-01-01 00:00:00\n",
              "1                1            1      0  2017-01-01 00:00:00\n",
              "2                2            2      0  2017-01-01 00:00:00\n",
              "3                3            3      0  2017-01-01 00:00:00\n",
              "4                4            4      0  2017-01-01 00:00:00\n",
              "...            ...          ...    ...                  ...\n",
              "41697595  41697595         1444      0  2018-05-09 07:00:00\n",
              "41697596  41697596         1445      0  2018-05-09 07:00:00\n",
              "41697597  41697597         1446      0  2018-05-09 07:00:00\n",
              "41697598  41697598         1447      0  2018-05-09 07:00:00\n",
              "41697599  41697599         1448      0  2018-05-09 07:00:00\n",
              "\n",
              "[41697600 rows x 4 columns]"
            ]
          },
          "metadata": {
            "tags": []
          },
          "execution_count": 95
        }
      ]
    },
    {
      "cell_type": "code",
      "metadata": {
        "id": "SZT1lgHrvwWz",
        "colab_type": "code",
        "colab": {}
      },
      "source": [
        "test = test.merge(building, how='left' , on='building_id' )\n",
        "test = test.merge(weather_test , how='left' , left_on=['site_id' , 'timestamp'], right_on=['site_id' , 'timestamp'])\n"
      ],
      "execution_count": 0,
      "outputs": []
    },
    {
      "cell_type": "code",
      "metadata": {
        "id": "u7QmagjixFxF",
        "colab_type": "code",
        "outputId": "ac248bbf-a1af-4aad-c009-6446d1f72e1c",
        "colab": {
          "base_uri": "https://localhost:8080/",
          "height": 758
        }
      },
      "source": [
        "test.fillna(0)"
      ],
      "execution_count": 0,
      "outputs": [
        {
          "output_type": "execute_result",
          "data": {
            "text/html": [
              "<div>\n",
              "<style scoped>\n",
              "    .dataframe tbody tr th:only-of-type {\n",
              "        vertical-align: middle;\n",
              "    }\n",
              "\n",
              "    .dataframe tbody tr th {\n",
              "        vertical-align: top;\n",
              "    }\n",
              "\n",
              "    .dataframe thead th {\n",
              "        text-align: right;\n",
              "    }\n",
              "</style>\n",
              "<table border=\"1\" class=\"dataframe\">\n",
              "  <thead>\n",
              "    <tr style=\"text-align: right;\">\n",
              "      <th></th>\n",
              "      <th>row_id</th>\n",
              "      <th>building_id</th>\n",
              "      <th>meter</th>\n",
              "      <th>timestamp</th>\n",
              "      <th>site_id</th>\n",
              "      <th>primary_use</th>\n",
              "      <th>square_feet</th>\n",
              "      <th>year_built</th>\n",
              "      <th>floor_count</th>\n",
              "      <th>air_temperature</th>\n",
              "      <th>cloud_coverage</th>\n",
              "      <th>dew_temperature</th>\n",
              "      <th>precip_depth_1_hr</th>\n",
              "      <th>sea_level_pressure</th>\n",
              "      <th>wind_direction</th>\n",
              "      <th>wind_speed</th>\n",
              "    </tr>\n",
              "  </thead>\n",
              "  <tbody>\n",
              "    <tr>\n",
              "      <th>0</th>\n",
              "      <td>0</td>\n",
              "      <td>0</td>\n",
              "      <td>0</td>\n",
              "      <td>2017-01-01 00:00:00</td>\n",
              "      <td>0</td>\n",
              "      <td>Education</td>\n",
              "      <td>7432</td>\n",
              "      <td>2008</td>\n",
              "      <td>0</td>\n",
              "      <td>17.799999</td>\n",
              "      <td>4.0</td>\n",
              "      <td>11.7</td>\n",
              "      <td>-2.0</td>\n",
              "      <td>1021.400024</td>\n",
              "      <td>100.0</td>\n",
              "      <td>3.6</td>\n",
              "    </tr>\n",
              "    <tr>\n",
              "      <th>1</th>\n",
              "      <td>1</td>\n",
              "      <td>1</td>\n",
              "      <td>0</td>\n",
              "      <td>2017-01-01 00:00:00</td>\n",
              "      <td>0</td>\n",
              "      <td>Education</td>\n",
              "      <td>2720</td>\n",
              "      <td>2004</td>\n",
              "      <td>0</td>\n",
              "      <td>17.799999</td>\n",
              "      <td>4.0</td>\n",
              "      <td>11.7</td>\n",
              "      <td>-2.0</td>\n",
              "      <td>1021.400024</td>\n",
              "      <td>100.0</td>\n",
              "      <td>3.6</td>\n",
              "    </tr>\n",
              "    <tr>\n",
              "      <th>2</th>\n",
              "      <td>2</td>\n",
              "      <td>2</td>\n",
              "      <td>0</td>\n",
              "      <td>2017-01-01 00:00:00</td>\n",
              "      <td>0</td>\n",
              "      <td>Education</td>\n",
              "      <td>5376</td>\n",
              "      <td>1991</td>\n",
              "      <td>0</td>\n",
              "      <td>17.799999</td>\n",
              "      <td>4.0</td>\n",
              "      <td>11.7</td>\n",
              "      <td>-2.0</td>\n",
              "      <td>1021.400024</td>\n",
              "      <td>100.0</td>\n",
              "      <td>3.6</td>\n",
              "    </tr>\n",
              "    <tr>\n",
              "      <th>3</th>\n",
              "      <td>3</td>\n",
              "      <td>3</td>\n",
              "      <td>0</td>\n",
              "      <td>2017-01-01 00:00:00</td>\n",
              "      <td>0</td>\n",
              "      <td>Education</td>\n",
              "      <td>23685</td>\n",
              "      <td>2002</td>\n",
              "      <td>0</td>\n",
              "      <td>17.799999</td>\n",
              "      <td>4.0</td>\n",
              "      <td>11.7</td>\n",
              "      <td>-2.0</td>\n",
              "      <td>1021.400024</td>\n",
              "      <td>100.0</td>\n",
              "      <td>3.6</td>\n",
              "    </tr>\n",
              "    <tr>\n",
              "      <th>4</th>\n",
              "      <td>4</td>\n",
              "      <td>4</td>\n",
              "      <td>0</td>\n",
              "      <td>2017-01-01 00:00:00</td>\n",
              "      <td>0</td>\n",
              "      <td>Education</td>\n",
              "      <td>116607</td>\n",
              "      <td>1975</td>\n",
              "      <td>0</td>\n",
              "      <td>17.799999</td>\n",
              "      <td>4.0</td>\n",
              "      <td>11.7</td>\n",
              "      <td>-2.0</td>\n",
              "      <td>1021.400024</td>\n",
              "      <td>100.0</td>\n",
              "      <td>3.6</td>\n",
              "    </tr>\n",
              "    <tr>\n",
              "      <th>...</th>\n",
              "      <td>...</td>\n",
              "      <td>...</td>\n",
              "      <td>...</td>\n",
              "      <td>...</td>\n",
              "      <td>...</td>\n",
              "      <td>...</td>\n",
              "      <td>...</td>\n",
              "      <td>...</td>\n",
              "      <td>...</td>\n",
              "      <td>...</td>\n",
              "      <td>...</td>\n",
              "      <td>...</td>\n",
              "      <td>...</td>\n",
              "      <td>...</td>\n",
              "      <td>...</td>\n",
              "      <td>...</td>\n",
              "    </tr>\n",
              "    <tr>\n",
              "      <th>41697595</th>\n",
              "      <td>41697595</td>\n",
              "      <td>1444</td>\n",
              "      <td>0</td>\n",
              "      <td>2018-05-09 07:00:00</td>\n",
              "      <td>15</td>\n",
              "      <td>Entertainment/public assembly</td>\n",
              "      <td>19619</td>\n",
              "      <td>1914</td>\n",
              "      <td>0</td>\n",
              "      <td>0.000000</td>\n",
              "      <td>0.0</td>\n",
              "      <td>0.0</td>\n",
              "      <td>0.0</td>\n",
              "      <td>0.000000</td>\n",
              "      <td>0.0</td>\n",
              "      <td>0.0</td>\n",
              "    </tr>\n",
              "    <tr>\n",
              "      <th>41697596</th>\n",
              "      <td>41697596</td>\n",
              "      <td>1445</td>\n",
              "      <td>0</td>\n",
              "      <td>2018-05-09 07:00:00</td>\n",
              "      <td>15</td>\n",
              "      <td>Education</td>\n",
              "      <td>4298</td>\n",
              "      <td>1899</td>\n",
              "      <td>0</td>\n",
              "      <td>0.000000</td>\n",
              "      <td>0.0</td>\n",
              "      <td>0.0</td>\n",
              "      <td>0.0</td>\n",
              "      <td>0.000000</td>\n",
              "      <td>0.0</td>\n",
              "      <td>0.0</td>\n",
              "    </tr>\n",
              "    <tr>\n",
              "      <th>41697597</th>\n",
              "      <td>41697597</td>\n",
              "      <td>1446</td>\n",
              "      <td>0</td>\n",
              "      <td>2018-05-09 07:00:00</td>\n",
              "      <td>15</td>\n",
              "      <td>Entertainment/public assembly</td>\n",
              "      <td>11265</td>\n",
              "      <td>1997</td>\n",
              "      <td>0</td>\n",
              "      <td>0.000000</td>\n",
              "      <td>0.0</td>\n",
              "      <td>0.0</td>\n",
              "      <td>0.0</td>\n",
              "      <td>0.000000</td>\n",
              "      <td>0.0</td>\n",
              "      <td>0.0</td>\n",
              "    </tr>\n",
              "    <tr>\n",
              "      <th>41697598</th>\n",
              "      <td>41697598</td>\n",
              "      <td>1447</td>\n",
              "      <td>0</td>\n",
              "      <td>2018-05-09 07:00:00</td>\n",
              "      <td>15</td>\n",
              "      <td>Lodging/residential</td>\n",
              "      <td>29775</td>\n",
              "      <td>2001</td>\n",
              "      <td>0</td>\n",
              "      <td>0.000000</td>\n",
              "      <td>0.0</td>\n",
              "      <td>0.0</td>\n",
              "      <td>0.0</td>\n",
              "      <td>0.000000</td>\n",
              "      <td>0.0</td>\n",
              "      <td>0.0</td>\n",
              "    </tr>\n",
              "    <tr>\n",
              "      <th>41697599</th>\n",
              "      <td>41697599</td>\n",
              "      <td>1448</td>\n",
              "      <td>0</td>\n",
              "      <td>2018-05-09 07:00:00</td>\n",
              "      <td>15</td>\n",
              "      <td>Office</td>\n",
              "      <td>92271</td>\n",
              "      <td>2001</td>\n",
              "      <td>0</td>\n",
              "      <td>0.000000</td>\n",
              "      <td>0.0</td>\n",
              "      <td>0.0</td>\n",
              "      <td>0.0</td>\n",
              "      <td>0.000000</td>\n",
              "      <td>0.0</td>\n",
              "      <td>0.0</td>\n",
              "    </tr>\n",
              "  </tbody>\n",
              "</table>\n",
              "<p>41697600 rows × 16 columns</p>\n",
              "</div>"
            ],
            "text/plain": [
              "            row_id  building_id  ...  wind_direction wind_speed\n",
              "0                0            0  ...           100.0        3.6\n",
              "1                1            1  ...           100.0        3.6\n",
              "2                2            2  ...           100.0        3.6\n",
              "3                3            3  ...           100.0        3.6\n",
              "4                4            4  ...           100.0        3.6\n",
              "...            ...          ...  ...             ...        ...\n",
              "41697595  41697595         1444  ...             0.0        0.0\n",
              "41697596  41697596         1445  ...             0.0        0.0\n",
              "41697597  41697597         1446  ...             0.0        0.0\n",
              "41697598  41697598         1447  ...             0.0        0.0\n",
              "41697599  41697599         1448  ...             0.0        0.0\n",
              "\n",
              "[41697600 rows x 16 columns]"
            ]
          },
          "metadata": {
            "tags": []
          },
          "execution_count": 8
        }
      ]
    },
    {
      "cell_type": "code",
      "metadata": {
        "id": "eNpNeraVwKmv",
        "colab_type": "code",
        "colab": {}
      },
      "source": [
        "test = test.drop(test.columns[[0,1,4]] , axis=1)"
      ],
      "execution_count": 0,
      "outputs": []
    },
    {
      "cell_type": "code",
      "metadata": {
        "id": "nkEsZrWWwXDx",
        "colab_type": "code",
        "colab": {}
      },
      "source": [
        "test = test.fillna(0)"
      ],
      "execution_count": 0,
      "outputs": []
    },
    {
      "cell_type": "code",
      "metadata": {
        "id": "hTjgY908xZDz",
        "colab_type": "code",
        "colab": {}
      },
      "source": [
        "onehot = pd.get_dummies(test.meter)\n",
        "test = pd.concat([test, onehot], axis=1)"
      ],
      "execution_count": 0,
      "outputs": []
    },
    {
      "cell_type": "code",
      "metadata": {
        "id": "C0zjAdSVxxPb",
        "colab_type": "code",
        "colab": {}
      },
      "source": [
        "onehot = pd.get_dummies(test.primary_use)\n",
        "test = pd.concat([test, onehot], axis=1)"
      ],
      "execution_count": 0,
      "outputs": []
    },
    {
      "cell_type": "code",
      "metadata": {
        "id": "W0KRYZCpyyJG",
        "colab_type": "code",
        "outputId": "e8359a97-ca83-4578-94e6-3a8c8559f9d3",
        "colab": {
          "base_uri": "https://localhost:8080/",
          "height": 615
        }
      },
      "source": [
        "test.count()"
      ],
      "execution_count": 0,
      "outputs": [
        {
          "output_type": "execute_result",
          "data": {
            "text/plain": [
              "meter                            41697600\n",
              "timestamp                        41697600\n",
              "primary_use                      41697600\n",
              "square_feet                      41697600\n",
              "year_built                       41697600\n",
              "floor_count                      41697600\n",
              "air_temperature                  41697600\n",
              "cloud_coverage                   41697600\n",
              "dew_temperature                  41697600\n",
              "precip_depth_1_hr                41697600\n",
              "sea_level_pressure               41697600\n",
              "wind_direction                   41697600\n",
              "wind_speed                       41697600\n",
              "0                                41697600\n",
              "1                                41697600\n",
              "2                                41697600\n",
              "3                                41697600\n",
              "Education                        41697600\n",
              "Entertainment/public assembly    41697600\n",
              "Food sales and service           41697600\n",
              "Healthcare                       41697600\n",
              "Lodging/residential              41697600\n",
              "Manufacturing/industrial         41697600\n",
              "Office                           41697600\n",
              "Other                            41697600\n",
              "Parking                          41697600\n",
              "Public services                  41697600\n",
              "Religious worship                41697600\n",
              "Retail                           41697600\n",
              "Services                         41697600\n",
              "Technology/science               41697600\n",
              "Utility                          41697600\n",
              "Warehouse/storage                41697600\n",
              "dtype: int64"
            ]
          },
          "metadata": {
            "tags": []
          },
          "execution_count": 19
        }
      ]
    },
    {
      "cell_type": "code",
      "metadata": {
        "id": "g_e6ewJsy1jI",
        "colab_type": "code",
        "colab": {}
      },
      "source": [
        "test = test.drop(test.columns[[0,2]] , axis=1)"
      ],
      "execution_count": 0,
      "outputs": []
    },
    {
      "cell_type": "code",
      "metadata": {
        "id": "3wtt17aGy8rA",
        "colab_type": "code",
        "colab": {}
      },
      "source": [
        "timestamp=test.iloc[:,0]"
      ],
      "execution_count": 0,
      "outputs": []
    },
    {
      "cell_type": "code",
      "metadata": {
        "id": "k7IMOcgtzI1y",
        "colab_type": "code",
        "colab": {}
      },
      "source": [
        "test = test.drop(test.columns[[0]] , axis=1)"
      ],
      "execution_count": 0,
      "outputs": []
    },
    {
      "cell_type": "code",
      "metadata": {
        "id": "bM9uJvfSzL-k",
        "colab_type": "code",
        "colab": {}
      },
      "source": [
        "timestamp = pd.to_datetime(timestamp)\n",
        "test = pd.concat([test ,  (timestamp.dt.weekday)] , axis=1)\n",
        "test = pd.concat([test ,(timestamp.dt.hour)] , axis=1 )"
      ],
      "execution_count": 0,
      "outputs": []
    },
    {
      "cell_type": "code",
      "metadata": {
        "id": "z7YgXsMDzhwR",
        "colab_type": "code",
        "outputId": "3c71b16d-bd60-4340-d952-f85c2024ca77",
        "colab": {
          "base_uri": "https://localhost:8080/",
          "height": 34
        }
      },
      "source": [
        ""
      ],
      "execution_count": 0,
      "outputs": [
        {
          "output_type": "execute_result",
          "data": {
            "text/plain": [
              "220"
            ]
          },
          "metadata": {
            "tags": []
          },
          "execution_count": 19
        }
      ]
    },
    {
      "cell_type": "code",
      "metadata": {
        "id": "czlyxHQjzX9n",
        "colab_type": "code",
        "colab": {}
      },
      "source": [
        "onehot=pd.get_dummies(test.iloc[:,30])\n",
        "onehot1 = pd.get_dummies(test.iloc[:,31])\n",
        "test = test.drop(test.columns[[30,31]] , axis=1)\n",
        "test = pd.concat([test,onehot] , axis=1)\n",
        "test = pd.concat([test , onehot1] , axis=1)\n"
      ],
      "execution_count": 0,
      "outputs": []
    },
    {
      "cell_type": "code",
      "metadata": {
        "id": "ZahLFe0Lz3JI",
        "colab_type": "code",
        "outputId": "b900fbc6-b8c2-497d-8419-6c0793d50da9",
        "colab": {
          "base_uri": "https://localhost:8080/",
          "height": 34
        }
      },
      "source": [
        "import gc\n",
        "del onehot\n",
        "del onehot1\n",
        "del timestamp\n",
        "del building\n",
        "del weather_test\n",
        "\n",
        "gc.collect()"
      ],
      "execution_count": 0,
      "outputs": [
        {
          "output_type": "execute_result",
          "data": {
            "text/plain": [
              "30"
            ]
          },
          "metadata": {
            "tags": []
          },
          "execution_count": 18
        }
      ]
    },
    {
      "cell_type": "code",
      "metadata": {
        "id": "QBQ7Mq1I1HiI",
        "colab_type": "code",
        "colab": {}
      },
      "source": [
        "from keras import Sequential\n",
        "from keras.layers import Dense\n",
        "\n",
        "def build_regressor():\n",
        "    regressor = Sequential()\n",
        "    regressor.add(Dense(units=1, input_dim=61))\n",
        "    #regressor.add(Dense(units=15))\n",
        "    #regressor.add(Dense(units=1))\n",
        "    regressor.compile(optimizer= 'adam' , loss='mean_squared_logarithmic_error',  metrics=['mean_squared_error'])\n",
        "    return regressor\n"
      ],
      "execution_count": 0,
      "outputs": []
    },
    {
      "cell_type": "code",
      "metadata": {
        "id": "nRZ-uzlY1JsS",
        "colab_type": "code",
        "colab": {}
      },
      "source": [
        ""
      ],
      "execution_count": 0,
      "outputs": []
    },
    {
      "cell_type": "code",
      "metadata": {
        "id": "r2yZUNy_0AEp",
        "colab_type": "code",
        "outputId": "eb845060-7d4c-4b7d-ff55-199785929fc0",
        "colab": {
          "base_uri": "https://localhost:8080/",
          "height": 512
        }
      },
      "source": [
        "from keras.models import load_model\n",
        "from keras.wrappers.scikit_learn import KerasRegressor\n",
        "from keras.losses import mean_squared_error as mse_loss\n",
        "from keras.models import load_model\n",
        "\n",
        "from keras import optimizers\n",
        "from keras.optimizers import RMSprop, Adam\n",
        "from keras.callbacks import EarlyStopping, ModelCheckpoint, ReduceLROnPlateau\n",
        "\n",
        "# Instantiate the model as you please (we are not going to use this)\n",
        "model2 = KerasRegressor(build_fn=build_regressor, epochs=10, batch_size=1024)\n",
        "\n",
        "# This is where you load the actual saved model into new variable.\n",
        "model2.model = load_model(\"/mntDrive/My Drive/Kaggle_Ashrae_Data/nn_classifier_linear.h5\")\n",
        "\n",
        "# Now you can use this to predict on new data (without fitting model2, because it uses the older saved model)\n"
      ],
      "execution_count": 0,
      "outputs": [
        {
          "output_type": "stream",
          "text": [
            "WARNING:tensorflow:From /usr/local/lib/python3.6/dist-packages/keras/backend/tensorflow_backend.py:541: The name tf.placeholder is deprecated. Please use tf.compat.v1.placeholder instead.\n",
            "\n",
            "WARNING:tensorflow:From /usr/local/lib/python3.6/dist-packages/keras/backend/tensorflow_backend.py:4432: The name tf.random_uniform is deprecated. Please use tf.random.uniform instead.\n",
            "\n",
            "WARNING:tensorflow:From /usr/local/lib/python3.6/dist-packages/keras/backend/tensorflow_backend.py:190: The name tf.get_default_session is deprecated. Please use tf.compat.v1.get_default_session instead.\n",
            "\n",
            "WARNING:tensorflow:From /usr/local/lib/python3.6/dist-packages/keras/backend/tensorflow_backend.py:197: The name tf.ConfigProto is deprecated. Please use tf.compat.v1.ConfigProto instead.\n",
            "\n",
            "WARNING:tensorflow:From /usr/local/lib/python3.6/dist-packages/keras/backend/tensorflow_backend.py:203: The name tf.Session is deprecated. Please use tf.compat.v1.Session instead.\n",
            "\n",
            "WARNING:tensorflow:From /usr/local/lib/python3.6/dist-packages/keras/backend/tensorflow_backend.py:207: The name tf.global_variables is deprecated. Please use tf.compat.v1.global_variables instead.\n",
            "\n",
            "WARNING:tensorflow:From /usr/local/lib/python3.6/dist-packages/keras/backend/tensorflow_backend.py:216: The name tf.is_variable_initialized is deprecated. Please use tf.compat.v1.is_variable_initialized instead.\n",
            "\n",
            "WARNING:tensorflow:From /usr/local/lib/python3.6/dist-packages/keras/backend/tensorflow_backend.py:223: The name tf.variables_initializer is deprecated. Please use tf.compat.v1.variables_initializer instead.\n",
            "\n",
            "WARNING:tensorflow:From /usr/local/lib/python3.6/dist-packages/keras/optimizers.py:793: The name tf.train.Optimizer is deprecated. Please use tf.compat.v1.train.Optimizer instead.\n",
            "\n",
            "WARNING:tensorflow:From /usr/local/lib/python3.6/dist-packages/keras/backend/tensorflow_backend.py:1702: The name tf.log is deprecated. Please use tf.math.log instead.\n",
            "\n",
            "WARNING:tensorflow:From /usr/local/lib/python3.6/dist-packages/tensorflow_core/python/ops/math_grad.py:1424: where (from tensorflow.python.ops.array_ops) is deprecated and will be removed in a future version.\n",
            "Instructions for updating:\n",
            "Use tf.where in 2.0, which has the same broadcast rule as np.where\n",
            "WARNING:tensorflow:From /usr/local/lib/python3.6/dist-packages/keras/backend/tensorflow_backend.py:1033: The name tf.assign_add is deprecated. Please use tf.compat.v1.assign_add instead.\n",
            "\n",
            "WARNING:tensorflow:From /usr/local/lib/python3.6/dist-packages/keras/backend/tensorflow_backend.py:1020: The name tf.assign is deprecated. Please use tf.compat.v1.assign instead.\n",
            "\n"
          ],
          "name": "stdout"
        }
      ]
    },
    {
      "cell_type": "code",
      "metadata": {
        "id": "6fOnEOpv0zzB",
        "colab_type": "code",
        "colab": {}
      },
      "source": [
        "result = model2.predict(test[:1000])"
      ],
      "execution_count": 0,
      "outputs": []
    },
    {
      "cell_type": "code",
      "metadata": {
        "id": "n6SkWQ2O1WDB",
        "colab_type": "code",
        "outputId": "58f0f586-716a-44c6-e500-bbe25d3d015c",
        "colab": {
          "base_uri": "https://localhost:8080/",
          "height": 756
        }
      },
      "source": [
        "Y_pred = []\n",
        "i, chunksize = 0, 1000000\n",
        "for idx in range(0, len(test), chunksize):\n",
        "    Y_pred += list(model2.predict(test[idx:(i+1)*chunksize],\n",
        "                verbose=1, batch_size=10000))\n",
        "    i += 1\n",
        "Y_pred = np.array(Y_pred)"
      ],
      "execution_count": 0,
      "outputs": [
        {
          "output_type": "stream",
          "text": [
            "1000000/1000000 [==============================] - 1s 1us/step\n",
            "1000000/1000000 [==============================] - 1s 1us/step\n",
            "1000000/1000000 [==============================] - 1s 1us/step\n",
            "1000000/1000000 [==============================] - 1s 1us/step\n",
            "1000000/1000000 [==============================] - 1s 1us/step\n",
            "1000000/1000000 [==============================] - 1s 1us/step\n",
            "1000000/1000000 [==============================] - 1s 1us/step\n",
            "1000000/1000000 [==============================] - 1s 1us/step\n",
            "1000000/1000000 [==============================] - 1s 1us/step\n",
            "1000000/1000000 [==============================] - 1s 1us/step\n",
            "1000000/1000000 [==============================] - 1s 1us/step\n",
            "1000000/1000000 [==============================] - 1s 1us/step\n",
            "1000000/1000000 [==============================] - 1s 1us/step\n",
            "1000000/1000000 [==============================] - 1s 1us/step\n",
            "1000000/1000000 [==============================] - 1s 1us/step\n",
            "1000000/1000000 [==============================] - 1s 1us/step\n",
            "1000000/1000000 [==============================] - 1s 1us/step\n",
            "1000000/1000000 [==============================] - 1s 1us/step\n",
            "1000000/1000000 [==============================] - 1s 1us/step\n",
            "1000000/1000000 [==============================] - 1s 1us/step\n",
            "1000000/1000000 [==============================] - 1s 1us/step\n",
            "1000000/1000000 [==============================] - 1s 1us/step\n",
            "1000000/1000000 [==============================] - 1s 1us/step\n",
            "1000000/1000000 [==============================] - 1s 1us/step\n",
            "1000000/1000000 [==============================] - 1s 1us/step\n",
            "1000000/1000000 [==============================] - 1s 1us/step\n",
            "1000000/1000000 [==============================] - 1s 1us/step\n",
            "1000000/1000000 [==============================] - 1s 1us/step\n",
            "1000000/1000000 [==============================] - 1s 1us/step\n",
            "1000000/1000000 [==============================] - 1s 1us/step\n",
            "1000000/1000000 [==============================] - 1s 1us/step\n",
            "1000000/1000000 [==============================] - 1s 1us/step\n",
            "1000000/1000000 [==============================] - 1s 1us/step\n",
            "1000000/1000000 [==============================] - 1s 1us/step\n",
            "1000000/1000000 [==============================] - 1s 1us/step\n",
            "1000000/1000000 [==============================] - 1s 1us/step\n",
            "1000000/1000000 [==============================] - 1s 1us/step\n",
            "1000000/1000000 [==============================] - 1s 1us/step\n",
            "1000000/1000000 [==============================] - 1s 1us/step\n",
            "1000000/1000000 [==============================] - 1s 1us/step\n",
            "1000000/1000000 [==============================] - 1s 1us/step\n",
            "697600/697600 [==============================] - 0s 1us/step\n"
          ],
          "name": "stdout"
        }
      ]
    },
    {
      "cell_type": "code",
      "metadata": {
        "id": "itJpveVO7jPw",
        "colab_type": "code",
        "colab": {}
      },
      "source": [
        "results = pd.DataFrame(Y_pred)"
      ],
      "execution_count": 0,
      "outputs": []
    },
    {
      "cell_type": "code",
      "metadata": {
        "id": "DPKphUHW75AO",
        "colab_type": "code",
        "outputId": "0a8598fc-c2fd-4b24-e5de-8a38e8fd54bb",
        "colab": {
          "base_uri": "https://localhost:8080/",
          "height": 52
        }
      },
      "source": [
        "results.max()"
      ],
      "execution_count": 0,
      "outputs": [
        {
          "output_type": "execute_result",
          "data": {
            "text/plain": [
              "0    725.206848\n",
              "dtype: float32"
            ]
          },
          "metadata": {
            "tags": []
          },
          "execution_count": 23
        }
      ]
    },
    {
      "cell_type": "code",
      "metadata": {
        "id": "MArDSifi9DtR",
        "colab_type": "code",
        "outputId": "1d9e7dce-c776-4b61-b823-062602704325",
        "colab": {
          "base_uri": "https://localhost:8080/",
          "height": 296
        }
      },
      "source": [
        "import matplotlib.pyplot as plt\n",
        "\n",
        "plt.plot(results)"
      ],
      "execution_count": 0,
      "outputs": [
        {
          "output_type": "execute_result",
          "data": {
            "text/plain": [
              "[<matplotlib.lines.Line2D at 0x7fc4d4519ac8>]"
            ]
          },
          "metadata": {
            "tags": []
          },
          "execution_count": 32
        },
        {
          "output_type": "display_data",
          "data": {
            "image/png": "[encoded data removed]",
            "text/plain": [
              "<Figure size 432x288 with 1 Axes>"
            ]
          },
          "metadata": {
            "tags": []
          }
        }
      ]
    },
    {
      "cell_type": "code",
      "metadata": {
        "id": "NOJRbscY_Gzh",
        "colab_type": "code",
        "outputId": "ec2dbc4a-d432-4b3c-8dff-ab261fed2cb8",
        "colab": {
          "base_uri": "https://localhost:8080/",
          "height": 34
        }
      },
      "source": [
        "sum=0\n",
        "for i in range(len(Y_pred)) :\n",
        "  if Y_pred[i]<0 :\n",
        "    sum=sum+1\n",
        "\n",
        "\n",
        "print(sum)"
      ],
      "execution_count": 0,
      "outputs": [
        {
          "output_type": "stream",
          "text": [
            "0\n"
          ],
          "name": "stdout"
        }
      ]
    },
    {
      "cell_type": "code",
      "metadata": {
        "id": "f0DDXW7GADGI",
        "colab_type": "code",
        "colab": {}
      },
      "source": [
        "results[results<0] = 50"
      ],
      "execution_count": 0,
      "outputs": []
    },
    {
      "cell_type": "code",
      "metadata": {
        "id": "IktRBsxKASCq",
        "colab_type": "code",
        "outputId": "89bdde24-e422-43bf-e7ef-2a6c9cfe2dcc",
        "colab": {
          "base_uri": "https://localhost:8080/",
          "height": 402
        }
      },
      "source": [
        "results"
      ],
      "execution_count": 0,
      "outputs": [
        {
          "output_type": "execute_result",
          "data": {
            "text/html": [
              "<div>\n",
              "<style scoped>\n",
              "    .dataframe tbody tr th:only-of-type {\n",
              "        vertical-align: middle;\n",
              "    }\n",
              "\n",
              "    .dataframe tbody tr th {\n",
              "        vertical-align: top;\n",
              "    }\n",
              "\n",
              "    .dataframe thead th {\n",
              "        text-align: right;\n",
              "    }\n",
              "</style>\n",
              "<table border=\"1\" class=\"dataframe\">\n",
              "  <thead>\n",
              "    <tr style=\"text-align: right;\">\n",
              "      <th></th>\n",
              "      <th>0</th>\n",
              "    </tr>\n",
              "  </thead>\n",
              "  <tbody>\n",
              "    <tr>\n",
              "      <th>0</th>\n",
              "      <td>8.195786</td>\n",
              "    </tr>\n",
              "    <tr>\n",
              "      <th>1</th>\n",
              "      <td>4.610818</td>\n",
              "    </tr>\n",
              "    <tr>\n",
              "      <th>2</th>\n",
              "      <td>6.621751</td>\n",
              "    </tr>\n",
              "    <tr>\n",
              "      <th>3</th>\n",
              "      <td>20.548624</td>\n",
              "    </tr>\n",
              "    <tr>\n",
              "      <th>4</th>\n",
              "      <td>91.177223</td>\n",
              "    </tr>\n",
              "    <tr>\n",
              "      <th>...</th>\n",
              "      <td>...</td>\n",
              "    </tr>\n",
              "    <tr>\n",
              "      <th>41697595</th>\n",
              "      <td>13.413678</td>\n",
              "    </tr>\n",
              "    <tr>\n",
              "      <th>41697596</th>\n",
              "      <td>1.133769</td>\n",
              "    </tr>\n",
              "    <tr>\n",
              "      <th>41697597</th>\n",
              "      <td>7.115667</td>\n",
              "    </tr>\n",
              "    <tr>\n",
              "      <th>41697598</th>\n",
              "      <td>17.903793</td>\n",
              "    </tr>\n",
              "    <tr>\n",
              "      <th>41697599</th>\n",
              "      <td>72.921173</td>\n",
              "    </tr>\n",
              "  </tbody>\n",
              "</table>\n",
              "<p>41697600 rows × 1 columns</p>\n",
              "</div>"
            ],
            "text/plain": [
              "                  0\n",
              "0          8.195786\n",
              "1          4.610818\n",
              "2          6.621751\n",
              "3         20.548624\n",
              "4         91.177223\n",
              "...             ...\n",
              "41697595  13.413678\n",
              "41697596   1.133769\n",
              "41697597   7.115667\n",
              "41697598  17.903793\n",
              "41697599  72.921173\n",
              "\n",
              "[41697600 rows x 1 columns]"
            ]
          },
          "metadata": {
            "tags": []
          },
          "execution_count": 25
        }
      ]
    },
    {
      "cell_type": "code",
      "metadata": {
        "id": "ZcWEPX6AAdIB",
        "colab_type": "code",
        "colab": {}
      },
      "source": [
        "sample_submission=pd.read_csv(\"/mntDrive/My Drive/Kaggle_Ashrae_Data/sample_submission.csv\")"
      ],
      "execution_count": 0,
      "outputs": []
    },
    {
      "cell_type": "code",
      "metadata": {
        "id": "jTXK_DzFHO7g",
        "colab_type": "code",
        "colab": {}
      },
      "source": [
        "sample_submission.meter_reading = results"
      ],
      "execution_count": 0,
      "outputs": []
    },
    {
      "cell_type": "code",
      "metadata": {
        "id": "EzYlcvfpHSGh",
        "colab_type": "code",
        "outputId": "990359a7-e51d-489a-8b55-6b5ee5d797aa",
        "colab": {
          "base_uri": "https://localhost:8080/",
          "height": 402
        }
      },
      "source": [
        "sample_submission"
      ],
      "execution_count": 0,
      "outputs": [
        {
          "output_type": "execute_result",
          "data": {
            "text/html": [
              "<div>\n",
              "<style scoped>\n",
              "    .dataframe tbody tr th:only-of-type {\n",
              "        vertical-align: middle;\n",
              "    }\n",
              "\n",
              "    .dataframe tbody tr th {\n",
              "        vertical-align: top;\n",
              "    }\n",
              "\n",
              "    .dataframe thead th {\n",
              "        text-align: right;\n",
              "    }\n",
              "</style>\n",
              "<table border=\"1\" class=\"dataframe\">\n",
              "  <thead>\n",
              "    <tr style=\"text-align: right;\">\n",
              "      <th></th>\n",
              "      <th>row_id</th>\n",
              "      <th>meter_reading</th>\n",
              "    </tr>\n",
              "  </thead>\n",
              "  <tbody>\n",
              "    <tr>\n",
              "      <th>0</th>\n",
              "      <td>0</td>\n",
              "      <td>8.195786</td>\n",
              "    </tr>\n",
              "    <tr>\n",
              "      <th>1</th>\n",
              "      <td>1</td>\n",
              "      <td>4.610818</td>\n",
              "    </tr>\n",
              "    <tr>\n",
              "      <th>2</th>\n",
              "      <td>2</td>\n",
              "      <td>6.621751</td>\n",
              "    </tr>\n",
              "    <tr>\n",
              "      <th>3</th>\n",
              "      <td>3</td>\n",
              "      <td>20.548624</td>\n",
              "    </tr>\n",
              "    <tr>\n",
              "      <th>4</th>\n",
              "      <td>4</td>\n",
              "      <td>91.177223</td>\n",
              "    </tr>\n",
              "    <tr>\n",
              "      <th>...</th>\n",
              "      <td>...</td>\n",
              "      <td>...</td>\n",
              "    </tr>\n",
              "    <tr>\n",
              "      <th>41697595</th>\n",
              "      <td>41697595</td>\n",
              "      <td>13.413678</td>\n",
              "    </tr>\n",
              "    <tr>\n",
              "      <th>41697596</th>\n",
              "      <td>41697596</td>\n",
              "      <td>1.133769</td>\n",
              "    </tr>\n",
              "    <tr>\n",
              "      <th>41697597</th>\n",
              "      <td>41697597</td>\n",
              "      <td>7.115667</td>\n",
              "    </tr>\n",
              "    <tr>\n",
              "      <th>41697598</th>\n",
              "      <td>41697598</td>\n",
              "      <td>17.903793</td>\n",
              "    </tr>\n",
              "    <tr>\n",
              "      <th>41697599</th>\n",
              "      <td>41697599</td>\n",
              "      <td>72.921173</td>\n",
              "    </tr>\n",
              "  </tbody>\n",
              "</table>\n",
              "<p>41697600 rows × 2 columns</p>\n",
              "</div>"
            ],
            "text/plain": [
              "            row_id  meter_reading\n",
              "0                0       8.195786\n",
              "1                1       4.610818\n",
              "2                2       6.621751\n",
              "3                3      20.548624\n",
              "4                4      91.177223\n",
              "...            ...            ...\n",
              "41697595  41697595      13.413678\n",
              "41697596  41697596       1.133769\n",
              "41697597  41697597       7.115667\n",
              "41697598  41697598      17.903793\n",
              "41697599  41697599      72.921173\n",
              "\n",
              "[41697600 rows x 2 columns]"
            ]
          },
          "metadata": {
            "tags": []
          },
          "execution_count": 39
        }
      ]
    },
    {
      "cell_type": "code",
      "metadata": {
        "id": "Kg7X7GFXHXkV",
        "colab_type": "code",
        "colab": {}
      },
      "source": [
        "sample_submission.to_csv('sample_submission.csv' , index=False)"
      ],
      "execution_count": 0,
      "outputs": []
    },
    {
      "cell_type": "code",
      "metadata": {
        "id": "kO4FeRIoJAVJ",
        "colab_type": "code",
        "colab": {}
      },
      "source": [
        "answer=sample_submission"
      ],
      "execution_count": 0,
      "outputs": []
    },
    {
      "cell_type": "code",
      "metadata": {
        "id": "2m8TLsJXJH1G",
        "colab_type": "code",
        "colab": {}
      },
      "source": [
        "sample_submission.to_csv(r\"/mntDrive/My Drive/Kaggle_Ashrae_Data/answer02.csv\"  , index=False)"
      ],
      "execution_count": 0,
      "outputs": []
    },
    {
      "cell_type": "code",
      "metadata": {
        "id": "8IiddG3MIDgq",
        "colab_type": "code",
        "outputId": "dd892e7b-6ea4-4e50-9d0a-06b462a28ade",
        "colab": {
          "base_uri": "https://localhost:8080/",
          "height": 34
        }
      },
      "source": [
        "!cp answer.csv  //mntDrive//My Drive"
      ],
      "execution_count": 0,
      "outputs": [
        {
          "output_type": "stream",
          "text": [
            "cp: target 'Drive' is not a directory\n"
          ],
          "name": "stdout"
        }
      ]
    },
    {
      "cell_type": "code",
      "metadata": {
        "id": "jqzkNsoFIu25",
        "colab_type": "code",
        "outputId": "22a65b94-ae16-4da0-ec87-352727b6f642",
        "colab": {
          "base_uri": "https://localhost:8080/",
          "height": 1000
        }
      },
      "source": [
        "cp  --help"
      ],
      "execution_count": 0,
      "outputs": [
        {
          "output_type": "stream",
          "text": [
            "Usage: cp [OPTION]... [-T] SOURCE DEST\n",
            "  or:  cp [OPTION]... SOURCE... DIRECTORY\n",
            "  or:  cp [OPTION]... -t DIRECTORY SOURCE...\n",
            "Copy SOURCE to DEST, or multiple SOURCE(s) to DIRECTORY.\n",
            "\n",
            "Mandatory arguments to long options are mandatory for short options too.\n",
            "  -a, --archive                same as -dR --preserve=all\n",
            "      --attributes-only        don't copy the file data, just the attributes\n",
            "      --backup[=CONTROL]       make a backup of each existing destination file\n",
            "  -b                           like --backup but does not accept an argument\n",
            "      --copy-contents          copy contents of special files when recursive\n",
            "  -d                           same as --no-dereference --preserve=links\n",
            "  -f, --force                  if an existing destination file cannot be\n",
            "                                 opened, remove it and try again (this option\n",
            "                                 is ignored when the -n option is also used)\n",
            "  -i, --interactive            prompt before overwrite (overrides a previous -n\n",
            "                                  option)\n",
            "  -H                           follow command-line symbolic links in SOURCE\n",
            "  -l, --link                   hard link files instead of copying\n",
            "  -L, --dereference            always follow symbolic links in SOURCE\n",
            "  -n, --no-clobber             do not overwrite an existing file (overrides\n",
            "                                 a previous -i option)\n",
            "  -P, --no-dereference         never follow symbolic links in SOURCE\n",
            "  -p                           same as --preserve=mode,ownership,timestamps\n",
            "      --preserve[=ATTR_LIST]   preserve the specified attributes (default:\n",
            "                                 mode,ownership,timestamps), if possible\n",
            "                                 additional attributes: context, links, xattr,\n",
            "                                 all\n",
            "      --no-preserve=ATTR_LIST  don't preserve the specified attributes\n",
            "      --parents                use full source file name under DIRECTORY\n",
            "  -R, -r, --recursive          copy directories recursively\n",
            "      --reflink[=WHEN]         control clone/CoW copies. See below\n",
            "      --remove-destination     remove each existing destination file before\n",
            "                                 attempting to open it (contrast with --force)\n",
            "      --sparse=WHEN            control creation of sparse files. See below\n",
            "      --strip-trailing-slashes  remove any trailing slashes from each SOURCE\n",
            "                                 argument\n",
            "  -s, --symbolic-link          make symbolic links instead of copying\n",
            "  -S, --suffix=SUFFIX          override the usual backup suffix\n",
            "  -t, --target-directory=DIRECTORY  copy all SOURCE arguments into DIRECTORY\n",
            "  -T, --no-target-directory    treat DEST as a normal file\n",
            "  -u, --update                 copy only when the SOURCE file is newer\n",
            "                                 than the destination file or when the\n",
            "                                 destination file is missing\n",
            "  -v, --verbose                explain what is being done\n",
            "  -x, --one-file-system        stay on this file system\n",
            "  -Z                           set SELinux security context of destination\n",
            "                                 file to default type\n",
            "      --context[=CTX]          like -Z, or if CTX is specified then set the\n",
            "                                 SELinux or SMACK security context to CTX\n",
            "      --help     display this help and exit\n",
            "      --version  output version information and exit\n",
            "\n",
            "By default, sparse SOURCE files are detected by a crude heuristic and the\n",
            "corresponding DEST file is made sparse as well.  That is the behavior\n",
            "selected by --sparse=auto.  Specify --sparse=always to create a sparse DEST\n",
            "file whenever the SOURCE file contains a long enough sequence of zero bytes.\n",
            "Use --sparse=never to inhibit creation of sparse files.\n",
            "\n",
            "When --reflink[=always] is specified, perform a lightweight copy, where the\n",
            "data blocks are copied only when modified.  If this is not possible the copy\n",
            "fails, or if --reflink=auto is specified, fall back to a standard copy.\n",
            "\n",
            "The backup suffix is '~', unless set with --suffix or SIMPLE_BACKUP_SUFFIX.\n",
            "The version control method may be selected via the --backup option or through\n",
            "the VERSION_CONTROL environment variable.  Here are the values:\n",
            "\n",
            "  none, off       never make backups (even if --backup is given)\n",
            "  numbered, t     make numbered backups\n",
            "  existing, nil   numbered if numbered backups exist, simple otherwise\n",
            "  simple, never   always make simple backups\n",
            "\n",
            "As a special case, cp makes a backup of SOURCE when the force and backup\n",
            "options are given and SOURCE and DEST are the same name for an existing,\n",
            "regular file.\n",
            "\n",
            "GNU coreutils online help: <http://www.gnu.org/software/coreutils/>\n",
            "Full documentation at: <http://www.gnu.org/software/coreutils/cp>\n",
            "or available locally via: info '(coreutils) cp invocation'\n"
          ],
          "name": "stdout"
        }
      ]
    },
    {
      "cell_type": "code",
      "metadata": {
        "id": "BzkvKF5AJ8s1",
        "colab_type": "code",
        "outputId": "189f3ffb-6f72-463a-8237-1877ed15cd2e",
        "colab": {
          "base_uri": "https://localhost:8080/",
          "height": 34
        }
      },
      "source": [
        "from google.colab import drive\n",
        "drive.mount('/content/drive')"
      ],
      "execution_count": 0,
      "outputs": [
        {
          "output_type": "stream",
          "text": [
            "Drive already mounted at /content/drive; to attempt to forcibly remount, call drive.mount(\"/content/drive\", force_remount=True).\n"
          ],
          "name": "stdout"
        }
      ]
    },
    {
      "cell_type": "code",
      "metadata": {
        "id": "lug0wfCNK4DM",
        "colab_type": "code",
        "outputId": "4e1e6b3b-1d71-434f-d953-64f258d57188",
        "colab": {
          "base_uri": "https://localhost:8080/",
          "height": 561
        }
      },
      "source": [
        "answer.to_pickle(\"/mntDrive/My Drive/Kaggle_Ashrae_Data/answer.csv\")"
      ],
      "execution_count": 0,
      "outputs": [
        {
          "output_type": "error",
          "ename": "OSError",
          "evalue": "ignored",
          "traceback": [
            "\u001b[0;31m---------------------------------------------------------------------------\u001b[0m",
            "\u001b[0;31mOSError\u001b[0m                                   Traceback (most recent call last)",
            "\u001b[0;32m<ipython-input-63-f2fc543b8b7c>\u001b[0m in \u001b[0;36m<module>\u001b[0;34m()\u001b[0m\n\u001b[0;32m----> 1\u001b[0;31m \u001b[0manswer\u001b[0m\u001b[0;34m.\u001b[0m\u001b[0mto_pickle\u001b[0m\u001b[0;34m(\u001b[0m\u001b[0;34m\"/mntDrive/My Drive/Kaggle_Ashrae_Data/answer.csv\"\u001b[0m\u001b[0;34m)\u001b[0m\u001b[0;34m\u001b[0m\u001b[0;34m\u001b[0m\u001b[0m\n\u001b[0m",
            "\u001b[0;32m/usr/local/lib/python3.6/dist-packages/pandas/core/generic.py\u001b[0m in \u001b[0;36mto_pickle\u001b[0;34m(self, path, compression, protocol)\u001b[0m\n\u001b[1;32m   2769\u001b[0m         \u001b[0;32mfrom\u001b[0m \u001b[0mpandas\u001b[0m\u001b[0;34m.\u001b[0m\u001b[0mio\u001b[0m\u001b[0;34m.\u001b[0m\u001b[0mpickle\u001b[0m \u001b[0;32mimport\u001b[0m \u001b[0mto_pickle\u001b[0m\u001b[0;34m\u001b[0m\u001b[0;34m\u001b[0m\u001b[0m\n\u001b[1;32m   2770\u001b[0m \u001b[0;34m\u001b[0m\u001b[0m\n\u001b[0;32m-> 2771\u001b[0;31m         \u001b[0mto_pickle\u001b[0m\u001b[0;34m(\u001b[0m\u001b[0mself\u001b[0m\u001b[0;34m,\u001b[0m \u001b[0mpath\u001b[0m\u001b[0;34m,\u001b[0m \u001b[0mcompression\u001b[0m\u001b[0;34m=\u001b[0m\u001b[0mcompression\u001b[0m\u001b[0;34m,\u001b[0m \u001b[0mprotocol\u001b[0m\u001b[0;34m=\u001b[0m\u001b[0mprotocol\u001b[0m\u001b[0;34m)\u001b[0m\u001b[0;34m\u001b[0m\u001b[0;34m\u001b[0m\u001b[0m\n\u001b[0m\u001b[1;32m   2772\u001b[0m \u001b[0;34m\u001b[0m\u001b[0m\n\u001b[1;32m   2773\u001b[0m     \u001b[0;32mdef\u001b[0m \u001b[0mto_clipboard\u001b[0m\u001b[0;34m(\u001b[0m\u001b[0mself\u001b[0m\u001b[0;34m,\u001b[0m \u001b[0mexcel\u001b[0m\u001b[0;34m=\u001b[0m\u001b[0;32mTrue\u001b[0m\u001b[0;34m,\u001b[0m \u001b[0msep\u001b[0m\u001b[0;34m=\u001b[0m\u001b[0;32mNone\u001b[0m\u001b[0;34m,\u001b[0m \u001b[0;34m**\u001b[0m\u001b[0mkwargs\u001b[0m\u001b[0;34m)\u001b[0m\u001b[0;34m:\u001b[0m\u001b[0;34m\u001b[0m\u001b[0;34m\u001b[0m\u001b[0m\n",
            "\u001b[0;32m/usr/local/lib/python3.6/dist-packages/pandas/io/pickle.py\u001b[0m in \u001b[0;36mto_pickle\u001b[0;34m(obj, path, compression, protocol)\u001b[0m\n\u001b[1;32m     70\u001b[0m     \"\"\"\n\u001b[1;32m     71\u001b[0m     \u001b[0mpath\u001b[0m \u001b[0;34m=\u001b[0m \u001b[0m_stringify_path\u001b[0m\u001b[0;34m(\u001b[0m\u001b[0mpath\u001b[0m\u001b[0;34m)\u001b[0m\u001b[0;34m\u001b[0m\u001b[0;34m\u001b[0m\u001b[0m\n\u001b[0;32m---> 72\u001b[0;31m     \u001b[0mf\u001b[0m\u001b[0;34m,\u001b[0m \u001b[0mfh\u001b[0m \u001b[0;34m=\u001b[0m \u001b[0m_get_handle\u001b[0m\u001b[0;34m(\u001b[0m\u001b[0mpath\u001b[0m\u001b[0;34m,\u001b[0m \u001b[0;34m\"wb\"\u001b[0m\u001b[0;34m,\u001b[0m \u001b[0mcompression\u001b[0m\u001b[0;34m=\u001b[0m\u001b[0mcompression\u001b[0m\u001b[0;34m,\u001b[0m \u001b[0mis_text\u001b[0m\u001b[0;34m=\u001b[0m\u001b[0;32mFalse\u001b[0m\u001b[0;34m)\u001b[0m\u001b[0;34m\u001b[0m\u001b[0;34m\u001b[0m\u001b[0m\n\u001b[0m\u001b[1;32m     73\u001b[0m     \u001b[0;32mif\u001b[0m \u001b[0mprotocol\u001b[0m \u001b[0;34m<\u001b[0m \u001b[0;36m0\u001b[0m\u001b[0;34m:\u001b[0m\u001b[0;34m\u001b[0m\u001b[0;34m\u001b[0m\u001b[0m\n\u001b[1;32m     74\u001b[0m         \u001b[0mprotocol\u001b[0m \u001b[0;34m=\u001b[0m \u001b[0mpickle\u001b[0m\u001b[0;34m.\u001b[0m\u001b[0mHIGHEST_PROTOCOL\u001b[0m\u001b[0;34m\u001b[0m\u001b[0;34m\u001b[0m\u001b[0m\n",
            "\u001b[0;32m/usr/local/lib/python3.6/dist-packages/pandas/io/common.py\u001b[0m in \u001b[0;36m_get_handle\u001b[0;34m(path_or_buf, mode, encoding, compression, memory_map, is_text)\u001b[0m\n\u001b[1;32m    403\u001b[0m         \u001b[0;32melse\u001b[0m\u001b[0;34m:\u001b[0m\u001b[0;34m\u001b[0m\u001b[0;34m\u001b[0m\u001b[0m\n\u001b[1;32m    404\u001b[0m             \u001b[0;31m# Binary mode\u001b[0m\u001b[0;34m\u001b[0m\u001b[0;34m\u001b[0m\u001b[0;34m\u001b[0m\u001b[0m\n\u001b[0;32m--> 405\u001b[0;31m             \u001b[0mf\u001b[0m \u001b[0;34m=\u001b[0m \u001b[0mopen\u001b[0m\u001b[0;34m(\u001b[0m\u001b[0mpath_or_buf\u001b[0m\u001b[0;34m,\u001b[0m \u001b[0mmode\u001b[0m\u001b[0;34m)\u001b[0m\u001b[0;34m\u001b[0m\u001b[0;34m\u001b[0m\u001b[0m\n\u001b[0m\u001b[1;32m    406\u001b[0m         \u001b[0mhandles\u001b[0m\u001b[0;34m.\u001b[0m\u001b[0mappend\u001b[0m\u001b[0;34m(\u001b[0m\u001b[0mf\u001b[0m\u001b[0;34m)\u001b[0m\u001b[0;34m\u001b[0m\u001b[0;34m\u001b[0m\u001b[0m\n\u001b[1;32m    407\u001b[0m \u001b[0;34m\u001b[0m\u001b[0m\n",
            "\u001b[0;31mOSError\u001b[0m: [Errno 107] Transport endpoint is not connected: '/mntDrive/My Drive/Kaggle_Ashrae_Data/answer.csv'"
          ]
        }
      ]
    },
    {
      "cell_type": "code",
      "metadata": {
        "id": "GOQHcL-UN4f9",
        "colab_type": "code",
        "outputId": "97db594d-b985-4b25-ef30-1925c2461316",
        "colab": {
          "base_uri": "https://localhost:8080/",
          "height": 402
        }
      },
      "source": [
        "sample_submission\n"
      ],
      "execution_count": 0,
      "outputs": [
        {
          "output_type": "execute_result",
          "data": {
            "text/html": [
              "<div>\n",
              "<style scoped>\n",
              "    .dataframe tbody tr th:only-of-type {\n",
              "        vertical-align: middle;\n",
              "    }\n",
              "\n",
              "    .dataframe tbody tr th {\n",
              "        vertical-align: top;\n",
              "    }\n",
              "\n",
              "    .dataframe thead th {\n",
              "        text-align: right;\n",
              "    }\n",
              "</style>\n",
              "<table border=\"1\" class=\"dataframe\">\n",
              "  <thead>\n",
              "    <tr style=\"text-align: right;\">\n",
              "      <th></th>\n",
              "      <th>row_id</th>\n",
              "      <th>meter_reading</th>\n",
              "    </tr>\n",
              "  </thead>\n",
              "  <tbody>\n",
              "    <tr>\n",
              "      <th>0</th>\n",
              "      <td>0</td>\n",
              "      <td>8.195786</td>\n",
              "    </tr>\n",
              "    <tr>\n",
              "      <th>1</th>\n",
              "      <td>1</td>\n",
              "      <td>4.610818</td>\n",
              "    </tr>\n",
              "    <tr>\n",
              "      <th>2</th>\n",
              "      <td>2</td>\n",
              "      <td>6.621751</td>\n",
              "    </tr>\n",
              "    <tr>\n",
              "      <th>3</th>\n",
              "      <td>3</td>\n",
              "      <td>20.548624</td>\n",
              "    </tr>\n",
              "    <tr>\n",
              "      <th>4</th>\n",
              "      <td>4</td>\n",
              "      <td>91.177223</td>\n",
              "    </tr>\n",
              "    <tr>\n",
              "      <th>...</th>\n",
              "      <td>...</td>\n",
              "      <td>...</td>\n",
              "    </tr>\n",
              "    <tr>\n",
              "      <th>41697595</th>\n",
              "      <td>41697595</td>\n",
              "      <td>13.413678</td>\n",
              "    </tr>\n",
              "    <tr>\n",
              "      <th>41697596</th>\n",
              "      <td>41697596</td>\n",
              "      <td>1.133769</td>\n",
              "    </tr>\n",
              "    <tr>\n",
              "      <th>41697597</th>\n",
              "      <td>41697597</td>\n",
              "      <td>7.115667</td>\n",
              "    </tr>\n",
              "    <tr>\n",
              "      <th>41697598</th>\n",
              "      <td>41697598</td>\n",
              "      <td>17.903793</td>\n",
              "    </tr>\n",
              "    <tr>\n",
              "      <th>41697599</th>\n",
              "      <td>41697599</td>\n",
              "      <td>72.921173</td>\n",
              "    </tr>\n",
              "  </tbody>\n",
              "</table>\n",
              "<p>41697600 rows × 2 columns</p>\n",
              "</div>"
            ],
            "text/plain": [
              "            row_id  meter_reading\n",
              "0                0       8.195786\n",
              "1                1       4.610818\n",
              "2                2       6.621751\n",
              "3                3      20.548624\n",
              "4                4      91.177223\n",
              "...            ...            ...\n",
              "41697595  41697595      13.413678\n",
              "41697596  41697596       1.133769\n",
              "41697597  41697597       7.115667\n",
              "41697598  41697598      17.903793\n",
              "41697599  41697599      72.921173\n",
              "\n",
              "[41697600 rows x 2 columns]"
            ]
          },
          "metadata": {
            "tags": []
          },
          "execution_count": 75
        }
      ]
    },
    {
      "cell_type": "code",
      "metadata": {
        "id": "qQ7L3MQrTexL",
        "colab_type": "code",
        "colab": {}
      },
      "source": [
        ""
      ],
      "execution_count": 0,
      "outputs": []
    }
  ]
}